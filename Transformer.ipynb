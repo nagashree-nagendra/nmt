{
  "cells": [
    {
      "cell_type": "markdown",
      "metadata": {
        "id": "jvAKPOxbBLKw"
      },
      "source": [
        "**Transformer from Scratch**\n",
        "\n",
        "\n",
        "---\n",
        "Transformer to translate English to one of Indian languages - Hindi\n",
        "\n"
      ]
    },
    {
      "cell_type": "code",
      "execution_count": null,
      "metadata": {
        "id": "hxjUr345JCNj"
      },
      "outputs": [],
      "source": [
        "# Install datasets\n",
        "!pip install datasets"
      ]
    },
    {
      "cell_type": "code",
      "execution_count": null,
      "metadata": {
        "id": "IC383Gz_I6zP"
      },
      "outputs": [],
      "source": [
        "import matplotlib.pyplot as plt\n",
        "import numpy as np\n",
        "import regex as re\n",
        "import tensorflow as tf\n",
        "\n",
        "import math\n",
        "import pickle\n",
        "import time\n",
        "import unicodedata\n",
        "\n",
        "from datasets import load_dataset\n",
        "from tensorflow.keras.preprocessing.text import Tokenizer\n",
        "from tensorflow.keras.preprocessing.sequence import pad_sequences\n",
        "from tensorflow.keras.layers import Dropout, Dense, Embedding, Layer, LayerNormalization\n",
        "from tensorflow.keras.optimizers.schedules import LearningRateSchedule\n",
        "from tensorflow.keras.optimizers import Adam\n",
        "from tensorflow.keras.losses import SparseCategoricalCrossentropy\n",
        "from tensorflow.keras.metrics import Mean"
      ]
    },
    {
      "cell_type": "code",
      "execution_count": null,
      "metadata": {
        "id": "VvV66b7fNZw5"
      },
      "outputs": [],
      "source": [
        "# Download English-Hindi dataset\n",
        "# Source: https://www.cfilt.iitb.ac.in/iitb_parallel/\n",
        "\n",
        "dataset = load_dataset('cfilt/iitb-english-hindi')"
      ]
    },
    {
      "cell_type": "code",
      "execution_count": null,
      "metadata": {
        "colab": {
          "base_uri": "https://localhost:8080/"
        },
        "id": "HTTQUXbAortX",
        "outputId": "73bc7f61-516b-4e61-cc08-3a7c3c461941"
      },
      "outputs": [
        {
          "data": {
            "text/plain": [
              "DatasetDict({\n",
              "    validation: Dataset({\n",
              "        features: ['translation'],\n",
              "        num_rows: 520\n",
              "    })\n",
              "    test: Dataset({\n",
              "        features: ['translation'],\n",
              "        num_rows: 2507\n",
              "    })\n",
              "    train: Dataset({\n",
              "        features: ['translation'],\n",
              "        num_rows: 1659083\n",
              "    })\n",
              "})"
            ]
          },
          "execution_count": 4,
          "metadata": {},
          "output_type": "execute_result"
        }
      ],
      "source": [
        "dataset"
      ]
    },
    {
      "cell_type": "code",
      "execution_count": null,
      "metadata": {
        "colab": {
          "base_uri": "https://localhost:8080/"
        },
        "id": "ThI_yd2_R87E",
        "outputId": "f08f5588-8364-48c9-857e-86e6c47ce354"
      },
      "outputs": [
        {
          "name": "stdout",
          "output_type": "stream",
          "text": [
            "A random observation...\n",
            "\n"
          ]
        },
        {
          "data": {
            "text/plain": [
              "{'translation': {'en': 'Choose file or directory to remove:',\n",
              "  'hi': 'फ़ाइल या निर्देशिका को हटाने के लिए चुनेंः'}}"
            ]
          },
          "execution_count": 5,
          "metadata": {},
          "output_type": "execute_result"
        }
      ],
      "source": [
        "print(\"A random observation...\\n\")\n",
        "dataset['train'][13000]"
      ]
    },
    {
      "cell_type": "code",
      "execution_count": null,
      "metadata": {
        "id": "JwHd5MGFRCpM",
        "outputId": "5bb97554-d02f-493c-8bda-4e8a6360950f"
      },
      "outputs": [
        {
          "name": "stdout",
          "output_type": "stream",
          "text": [
            "Train dataset size: 10000\n",
            "Train dataset size: 520\n",
            "Train dataset size: 2507\n"
          ]
        }
      ],
      "source": [
        "# Prepare dataset\n",
        "train_dataset = dataset['train'][:10000]['translation']\n",
        "validation_dataset = dataset['validation']['translation']\n",
        "test_dataset = dataset['test']['translation']\n",
        "\n",
        "print('Train dataset size: {}'.format(len(train_dataset)))\n",
        "print('Train dataset size: {}'.format(len(validation_dataset)))\n",
        "print('Train dataset size: {}'.format(len(test_dataset)))"
      ]
    },
    {
      "cell_type": "code",
      "execution_count": null,
      "metadata": {
        "colab": {
          "base_uri": "https://localhost:8080/"
        },
        "id": "CCXV3S6_eoXr",
        "outputId": "e6dc1075-4522-47d6-df19-4339418549b2"
      },
      "outputs": [
        {
          "data": {
            "text/plain": [
              "('Give your application an accessibility workout',\n",
              " 'अपने अनुप्रयोग को पहुंचनीयता व्यायाम का लाभ दें')"
            ]
          },
          "execution_count": 7,
          "metadata": {},
          "output_type": "execute_result"
        }
      ],
      "source": [
        "src_dataset = np.array([])  # Source Language: English\n",
        "tgt_dataset = np.array([])  # Target Languange: Hindi\n",
        "\n",
        "for pair in train_dataset:\n",
        "    src_dataset = np.append(src_dataset, pair['en'])\n",
        "    tgt_dataset = np.append(tgt_dataset, pair['hi'])\n",
        "\n",
        "src_dataset[0], tgt_dataset[0]"
      ]
    },
    {
      "cell_type": "code",
      "execution_count": null,
      "metadata": {
        "colab": {
          "base_uri": "https://localhost:8080/",
          "height": 35
        },
        "id": "hdSPzs9_CEQR",
        "outputId": "7b41c24f-8c96-41e0-a2ab-8f4b0677d752"
      },
      "outputs": [
        {
          "data": {
            "text/plain": [
              "'give your application an accessibility workout'"
            ]
          },
          "execution_count": 8,
          "metadata": {},
          "output_type": "execute_result"
        }
      ],
      "source": [
        "# Convert the source (English) text to lowercase\n",
        "src_dataset = np.char.lower(src_dataset)\n",
        "src_dataset[0]"
      ]
    },
    {
      "cell_type": "code",
      "execution_count": null,
      "metadata": {
        "id": "1mwHiFSTIYe-"
      },
      "outputs": [],
      "source": [
        "# Remove special characters in both source dataset and target dataset\n",
        "def clean_text(text):\n",
        "  # Retain punctuations ^ a-z0-9.?!,:/- so as to not alter/loose the meaning of text\n",
        "  # Add a whitespace before and after the punctuations\n",
        "  text = re.sub('([.?!,:/-])', r' \\1 ', text)\n",
        "\n",
        "  # Remove additional whitespace\n",
        "  text = text.strip()\n",
        "\n",
        "  return text\n",
        "\n",
        "# Source dataset (English)\n",
        "for idx in range(len(src_dataset)):\n",
        "  src_dataset[idx] = clean_text(src_dataset[idx])\n",
        "\n",
        "# Target dataset (Hindi)\n",
        "for idx in range(len(tgt_dataset)):\n",
        "  tgt_dataset[idx] = clean_text(tgt_dataset[idx])"
      ]
    },
    {
      "cell_type": "code",
      "execution_count": null,
      "metadata": {
        "id": "mDll9Ch0RCpO",
        "outputId": "9c4ecb39-2740-40cd-d14a-aa0bf22a25ee"
      },
      "outputs": [
        {
          "data": {
            "text/plain": [
              "('the color and opacity of the highlight border .',\n",
              " 'हाइलाइट किए गए सीमांत का रंग और अपारदर्शिता।')"
            ]
          },
          "execution_count": 10,
          "metadata": {},
          "output_type": "execute_result"
        }
      ],
      "source": [
        "src_dataset[8], tgt_dataset[8]"
      ]
    },
    {
      "cell_type": "code",
      "execution_count": null,
      "metadata": {
        "colab": {
          "base_uri": "https://localhost:8080/",
          "height": 51
        },
        "id": "e0LVHdW4iPe3",
        "outputId": "f46b60a8-d558-4e6f-ad3d-dad190fc5340"
      },
      "outputs": [
        {
          "name": "stdout",
          "output_type": "stream",
          "text": [
            "Maximum length of sequence in English (source): 41\n",
            "Maximum length of sequence in Hindi (target): 40\n"
          ]
        }
      ],
      "source": [
        "# Tokenize the source and target text\n",
        "def tokenize_text(_dataset):\n",
        "  tknzr = Tokenizer()\n",
        "  tknzr.fit_on_texts(_dataset)\n",
        "  _tokenized = tknzr.texts_to_sequences(_dataset)\n",
        "  _word_to_idx = tknzr.word_index\n",
        "  return tknzr, _tokenized, _word_to_idx\n",
        "\n",
        "src_tknzr, src_sequences, src_vocabulary = tokenize_text(src_dataset)\n",
        "src_max_sequence_length = max(len(sequence) for sequence in src_sequences)\n",
        "print(\"Maximum length of sequence in English (source): %s\" % src_max_sequence_length)\n",
        "\n",
        "tgt_tknzr, tgt_sequences, tgt_vocabulary = tokenize_text(tgt_dataset)\n",
        "tgt_max_sequence_length = max(len(sequence) for sequence in tgt_sequences)\n",
        "print(\"Maximum length of sequence in Hindi (target): %s\" % tgt_max_sequence_length)"
      ]
    },
    {
      "cell_type": "code",
      "execution_count": null,
      "metadata": {
        "colab": {
          "base_uri": "https://localhost:8080/"
        },
        "id": "9F8oV8X9Bq2U",
        "outputId": "bf69d3b5-9a16-4549-951c-2845bf52e043"
      },
      "outputs": [
        {
          "name": "stdout",
          "output_type": "stream",
          "text": [
            "Number of unique words in English (source) language: 1558\n",
            "Number of unique words in Hindi (target) language: 2037\n"
          ]
        }
      ],
      "source": [
        "src_vocabulary_size = len(src_vocabulary)\n",
        "print(\"Number of unique words in English (source) language: %s\" % src_vocabulary_size)\n",
        "\n",
        "tgt_vocabulary_size = len(tgt_vocabulary)\n",
        "print(\"Number of unique words in Hindi (target) language: %s\" % tgt_vocabulary_size)"
      ]
    },
    {
      "cell_type": "code",
      "execution_count": null,
      "metadata": {
        "id": "I1-Kv0KhRCpP",
        "outputId": "3b17d68f-05b8-4a6a-c5e3-1394d1402053"
      },
      "outputs": [
        {
          "data": {
            "text/plain": [
              "([1, 67, 45, 314, 2, 1, 57, 115], [71, 94, 100, 207, 1, 69, 50, 650])"
            ]
          },
          "execution_count": 13,
          "metadata": {},
          "output_type": "execute_result"
        }
      ],
      "source": [
        "src_sequences[10], tgt_sequences[10]"
      ]
    },
    {
      "cell_type": "code",
      "execution_count": null,
      "metadata": {
        "id": "pApOOkH0RCpQ"
      },
      "outputs": [],
      "source": [
        "# Prepend and append the sequences with [START] and [END], respectively\n",
        "# [START]: vocabulary_size + 1\n",
        "# [END]: vocabulary_size + 2\n",
        "def add_start_end_tokens(sequence, vocabulary_size):\n",
        "    sequence = [vocabulary_size+1] + sequence + [vocabulary_size+2]\n",
        "    return sequence"
      ]
    },
    {
      "cell_type": "code",
      "execution_count": null,
      "metadata": {
        "id": "ELQ-OwQPRCpQ"
      },
      "outputs": [],
      "source": [
        "# Source sequences\n",
        "for s_idx in range(len(src_sequences)):\n",
        "  src_sequences[s_idx] = add_start_end_tokens(src_sequences[s_idx], src_vocabulary_size)\n",
        "\n",
        "# Target sequences\n",
        "for t_idx in range(len(tgt_sequences)):\n",
        "  tgt_sequences[t_idx] = add_start_end_tokens(tgt_sequences[t_idx], tgt_vocabulary_size)"
      ]
    },
    {
      "cell_type": "code",
      "execution_count": null,
      "metadata": {
        "id": "kxRM2u-PRCpR",
        "outputId": "a93340b3-c54c-4d9b-a127-16d58b08acde"
      },
      "outputs": [
        {
          "data": {
            "text/plain": [
              "([1559, 1, 67, 45, 314, 2, 1, 57, 115, 1560],\n",
              " [2038, 71, 94, 100, 207, 1, 69, 50, 650, 2039])"
            ]
          },
          "execution_count": 16,
          "metadata": {},
          "output_type": "execute_result"
        }
      ],
      "source": [
        "src_sequences[10], tgt_sequences[10]"
      ]
    },
    {
      "cell_type": "code",
      "execution_count": null,
      "metadata": {
        "colab": {
          "base_uri": "https://localhost:8080/"
        },
        "id": "ialbl7aRTrxD",
        "outputId": "50fb9bcf-87eb-4596-b0c3-268a510072f0"
      },
      "outputs": [
        {
          "name": "stdout",
          "output_type": "stream",
          "text": [
            "Source (English):\n",
            "-----------------\n",
            "(10000, 41)\n",
            "[1559    1   67   45  314    2    1   57  115 1560    0    0    0    0\n",
            "    0    0    0    0    0    0    0    0    0    0    0    0    0    0\n",
            "    0    0    0    0    0    0    0    0    0    0    0    0    0]\n",
            "\n",
            "Target (Hindi):\n",
            "-----------------\n",
            "(10000, 40)\n",
            "[2038   71   94  100  207    1   69   50  650 2039    0    0    0    0\n",
            "    0    0    0    0    0    0    0    0    0    0    0    0    0    0\n",
            "    0    0    0    0    0    0    0    0    0    0    0    0]\n"
          ]
        }
      ],
      "source": [
        "# Pad the sequences to src_max_sequence_length (source) & tgt_max_sequence_length (target)\n",
        "src_padded_sequences = pad_sequences(src_sequences, \n",
        "                                     maxlen=src_max_sequence_length, \n",
        "                                     padding='post',\n",
        "                                     truncating='post')\n",
        "print(\"Source (English):\")\n",
        "print(\"-\"*17)\n",
        "print(src_padded_sequences.shape)\n",
        "print(src_padded_sequences[10])\n",
        "\n",
        "print()\n",
        "\n",
        "tgt_padded_sequences = pad_sequences(tgt_sequences, \n",
        "                                     maxlen=tgt_max_sequence_length,\n",
        "                                     padding='post',\n",
        "                                     truncating='post')\n",
        "print(\"Target (Hindi):\")\n",
        "print(\"-\"*17)\n",
        "print(tgt_padded_sequences.shape)\n",
        "print(tgt_padded_sequences[10])"
      ]
    },
    {
      "cell_type": "code",
      "execution_count": null,
      "metadata": {
        "id": "bpLalL_uMVUk"
      },
      "outputs": [],
      "source": [
        "# Global variables\n",
        "D_MODEL = 512\n",
        "BATCH_SIZE = 64\n",
        "BUFFER_SIZE = 20000 \n",
        "h = 8 # h: attention layers or heads\n",
        "p_dropout = 0.1 # rate"
      ]
    },
    {
      "cell_type": "markdown",
      "metadata": {
        "id": "kUUTkyse1Ks7"
      },
      "source": [
        "**Positional Encoding [3]**\n",
        "\n"
      ]
    },
    {
      "cell_type": "code",
      "execution_count": null,
      "metadata": {
        "id": "DID5wRZk1JLE"
      },
      "outputs": [],
      "source": [
        "# The maximum length of sequence is 41 (max(src_max_sequence_length, tgt_max_sequence_length))\n",
        "# In this case, the positional encoding is computed for 100 positions\n",
        "p_encoding = np.ndarray((1, 100, D_MODEL)) # shape: 1x100x512 (100 positions x D_MODEL dimensions)\n",
        "\n",
        "for pos in range(100):\n",
        "    p_vector = []\n",
        "    for idx in range(D_MODEL):\n",
        "        x = pos / 10000 ** (2 * idx / D_MODEL)\n",
        "        if idx % 2 == 0: \n",
        "            p_vector.append(np.sin(x))  # even positions\n",
        "        else:\n",
        "            p_vector.append(np.cos(x))  # odd positions\n",
        "    p_encoding[0][pos] = np.array(p_vector)\n",
        "\n",
        "p_encoding = tf.convert_to_tensor(p_encoding, dtype='float32')"
      ]
    },
    {
      "cell_type": "code",
      "execution_count": null,
      "metadata": {
        "colab": {
          "base_uri": "https://localhost:8080/",
          "height": 300
        },
        "id": "OOoCg08WyVta",
        "outputId": "5720b5bd-8e35-45b0-dde3-9cb72aef3e54"
      },
      "outputs": [
        {
          "data": {
            "text/plain": [
              "<matplotlib.colorbar.Colorbar at 0x7f07322d9640>"
            ]
          },
          "execution_count": 20,
          "metadata": {},
          "output_type": "execute_result"
        },
        {
          "data": {
            "image/png": "[encoded data removed]",
            "text/plain": [
              "<Figure size 432x288 with 2 Axes>"
            ]
          },
          "metadata": {
            "needs_background": "light"
          },
          "output_type": "display_data"
        }
      ],
      "source": [
        "# Plot positional encodings\n",
        "plt.pcolormesh(p_encoding[0])\n",
        "plt.xlabel('idx')\n",
        "plt.ylabel('position')\n",
        "plt.colorbar()"
      ]
    },
    {
      "cell_type": "code",
      "execution_count": null,
      "metadata": {
        "id": "G3gVs53WKOZi"
      },
      "outputs": [],
      "source": [
        "class TransformerInput(Layer):\n",
        "  def __init__(self, vocabulary_size):\n",
        "    super().__init__()\n",
        "\n",
        "    # Embedding layer\n",
        "    self.embedding = Embedding(vocabulary_size, D_MODEL) \n",
        "\n",
        "    # Dropout layer\n",
        "    self.dropout = Dropout(p_dropout)\n",
        "    \n",
        "  def call(self, padded_sequences, training):\n",
        "    # Input (padded_sequences): BATCH_SIZE x sequence length\n",
        "    # 64x39 - Source (English) & Target (Hindi)\n",
        "    # Output (t_input): BATCH_SIZE x sequence length x D_MODEL \n",
        "    # 64x39x512 - Source (English) & Target (Hindi)\n",
        "    t_input = self.embedding(padded_sequences)\n",
        "\n",
        "    # Add positional encoding to embeddings\n",
        "    # Positional encoding (p_encoding): 1x39x512 - Source (English) & Target (Hindi)\n",
        "    sequence_length = padded_sequences.shape[1] # Positions -> 0 to sequence_length - 1\n",
        "    t_input = tf.add(t_input, p_encoding[:, :sequence_length, :])\n",
        "\n",
        "    # Apply dropout\n",
        "    t_input = self.dropout(t_input, training)\n",
        "\n",
        "    # Output (t_input): BATCH_SIZE x sequence length x D_MODEL \n",
        "    # 64x39x512 - Source (English) & Target (Hindi)\n",
        "    return t_input"
      ]
    },
    {
      "cell_type": "code",
      "execution_count": null,
      "metadata": {
        "id": "UO1PsNrB5ghM"
      },
      "outputs": [],
      "source": [
        "class LinearLayer(Layer):\n",
        "  def __init__(self, d_k):\n",
        "    super().__init__()\n",
        "\n",
        "    # Input to each encoder layer passes through Dense layers to generate Query (Q), Key (K) & Value (V) tensors \n",
        "    # Each Dense layer has (d_k/d_v)xh number of linear (f(x)=x) activation units\n",
        "    # because it's more efficient than h Dense layers in a loop with d_k/d_v linear activation units in each\n",
        "    # h (attention layers or heads) = 8\n",
        "    # d_k/d_v = 64\n",
        "    self.d_k = self.d_v = d_k\n",
        "\n",
        "    self.q_linear = Dense(D_MODEL)  # units = D_MODEL: 64x8 (d_kxh)\n",
        "    self.k_linear = Dense(D_MODEL)  # units = D_MODEL: 64x8 (d_kxh)\n",
        "    self.v_linear = Dense(D_MODEL)  # units = D_MODEL: 64x8 (d_vxh)\n",
        "\n",
        "  def call(self, q_input, k_input, v_input):\n",
        "    # Input (q_input, k_input, v_input): BATCH_SIZE x sequence length x D_MODEL \n",
        "    # Output (q, k, v): BATCH_SIZE x sequence length x D_MODEL \n",
        "    # 64x39x512 - Source (English) & Target (Hindi)\n",
        "    q = self.q_linear(q_input) \n",
        "    k = self.k_linear(k_input)\n",
        "    v = self.v_linear(v_input)\n",
        "\n",
        "    # Reshape q, k, v from (BATCH_SIZE x sequence length x D_MODEL) to (BATCH_SIZE x h x sequence length x d_k/d_v)\n",
        "    # 64x8x39x64 - Source (English) & Target (Hindi)\n",
        "    # -1 for sequence length (39 - Source (English) & Target (Hindi))\n",
        "    q = tf.transpose(tf.reshape(q, shape=(BATCH_SIZE, -1, h, self.d_k)), perm=(0, 2, 1, 3))\n",
        "    k = tf.transpose(tf.reshape(k, shape=(BATCH_SIZE, -1, h, self.d_k)), perm=(0, 2, 1, 3)) \n",
        "    v = tf.transpose(tf.reshape(v, shape=(BATCH_SIZE, -1, h, self.d_v)), perm=(0, 2, 1, 3)) \n",
        "\n",
        "    return q, k, v"
      ]
    },
    {
      "cell_type": "code",
      "execution_count": null,
      "metadata": {
        "id": "AV6Wd9IxCJAH"
      },
      "outputs": [],
      "source": [
        "class ScaledDotProductAttention(Layer):\n",
        "  def __init__(self, d_k):\n",
        "    super().__init__()\n",
        "\n",
        "    # d_k/d_v = 64\n",
        "    self.d_k = d_k\n",
        "    \n",
        "  def call(self, q, k, v, mask):\n",
        "    # Input (q, k): BATCH_SIZE x h x sequence length x d_k/d_v \n",
        "    # 64x8x39x64 - Source (English) & Target (Hindi)\n",
        "    # Output (attention_weights): BATCH_SIZE x h x sequence length x sequence length\n",
        "    # Source (English) & Target (Hindi): q.k_T = (64x8x39x64).(64x8x64x39) = (64x8x39x39)\n",
        "    attention_weights = tf.matmul(q, k, transpose_b=True)\n",
        "\n",
        "    # Scale attention_weights by sqrt(d_k)\n",
        "    scaled_attention_weights = tf.divide(attention_weights, \n",
        "                                         tf.sqrt(tf.cast(self.d_k, dtype='float32')))\n",
        "\n",
        "    if mask is not None:\n",
        "      # Input, Output (mask): \n",
        "      # padding_mask - BATCH_SIZE x 1 x 1 x sequence length \n",
        "      # 64x1x1x39 - Source (English)\n",
        "      # look_ahead_mask - 1 x 1 x sequence length x sequence length\n",
        "      # 1x1x39x39 - Target (Hindi)\n",
        "      mask = mask * -1e25\n",
        "      scaled_attention_weights = tf.add(scaled_attention_weights, mask)\n",
        "\n",
        "    # Apply softmax on attention_weights\n",
        "    attention_weights = tf.nn.softmax(scaled_attention_weights)\n",
        "\n",
        "    # Input (attention_weights, v): BATCH_SIZE x h x sequence length x sequence length\n",
        "    # 64x8x39x39 - Source (English) & Target (Hindi)\n",
        "    # Output (attention_output): \n",
        "    # Source (English) & Target (Hindi): attention_weights.v = (64x8x39x39).(64x8x39x64) = (64x8x39x64)\n",
        "    attention_output = tf.matmul(attention_weights, v)\n",
        "\n",
        "    return attention_output"
      ]
    },
    {
      "cell_type": "code",
      "execution_count": null,
      "metadata": {
        "id": "8OGU2LDXCIq0"
      },
      "outputs": [],
      "source": [
        "class MultiHeadAttention(Layer):\n",
        "  def __init__(self, d_k):\n",
        "    super().__init__()\n",
        "\n",
        "    # d_k/d_v = 64\n",
        "    self.d_k = d_k\n",
        "\n",
        "    # Scaled dot-product attention\n",
        "    self.sdpa = ScaledDotProductAttention(self.d_k)\n",
        "\n",
        "    # The outputs of all attention heads are concatenated and passed through a Dense layer \n",
        "    # The Dense layer has D_MODEL number of linear (f(x)=x) activation units\n",
        "    self.z_linear = Dense(D_MODEL)\n",
        "\n",
        "  def call(self, q, k, v, mask=None):\n",
        "    # Input (q, k, v): BATCH_SIZE x h x sequence length x d_k/d_v\n",
        "    # Output (attention_output): BATCH_SIZE x h x sequence length x d_k/d_v\n",
        "    # 64x8x39x64 - Source (English) & Target (Hindi)\n",
        "    attention_output = self.sdpa(q, k, v, mask)\n",
        "\n",
        "    # Reshape attention_output from BATCH_SIZE x h x sequence length x d_k/d_v to BATCH_SIZE x sequence length x D_MODEL\n",
        "    # 64x39x512 - Source (English) & Target (Hindi)\n",
        "    attention_output = tf.reshape(tf.transpose(attention_output, perm=(0, 2, 1, 3)), shape=(BATCH_SIZE, -1, D_MODEL))\n",
        "\n",
        "    # Output (mha_output): BATCH_SIZE x sequence length x D_MODEL\n",
        "    # 64x39x512 - Source (English) & Target (Hindi)\n",
        "    mha_output = self.z_linear(attention_output)\n",
        "\n",
        "    return mha_output"
      ]
    },
    {
      "cell_type": "code",
      "execution_count": null,
      "metadata": {
        "id": "yvTgyjbywbMB"
      },
      "outputs": [],
      "source": [
        "class AddNorm(Layer):\n",
        "  def __init__(self):\n",
        "    super().__init__()\n",
        "\n",
        "    # Layer normalization of x + sublayer(x)\n",
        "    self.l_normalization = LayerNormalization()\n",
        "\n",
        "  def call(self, x, sublayer_x):\n",
        "    # Input (x, sublayer_x): BATCH_SIZE x sequence length x D_MODEL\n",
        "    # Output(_sum): BATCH_SIZE x sequence length x D_MODEL\n",
        "    # 64x39x512 - Source (English) & Target (Hindi)\n",
        "    _sum = tf.add(x, sublayer_x)\n",
        "\n",
        "    # Output(an_output): BATCH_SIZE x sequence length x D_MODEL\n",
        "    # 64x39x512 - Source (English) & Target (Hindi)\n",
        "    an_output = self.l_normalization(_sum)\n",
        "\n",
        "    return(an_output)"
      ]
    },
    {
      "cell_type": "code",
      "execution_count": null,
      "metadata": {
        "id": "gWJ72Ev41HxC"
      },
      "outputs": [],
      "source": [
        "class FeedForward(Layer):\n",
        "  def __init__(self):\n",
        "    super().__init__()\n",
        "\n",
        "    # The first Dense layer has 2048 'relu' activation units\n",
        "    self.d_ff = 2048\n",
        "    self.ff_1 = Dense(self.d_ff, activation='relu')\n",
        "\n",
        "    # The second Dense layer has D_MODEL linear activation units\n",
        "    self.ff_2 = Dense(D_MODEL)\n",
        "\n",
        "  def call(self, ff_input):\n",
        "    # Input (ff_input): BATCH_SIZE x sequence length x D_MODEL\n",
        "    # 64x39x512 - Source (English) & Target (Hindi)\n",
        "    # Output (ff_1_output): BATCH_SIZE x sequence length x d_ff\n",
        "    # 64x39x2048 - Source (English) & Target (Hindi)\n",
        "    ff_1_output = self.ff_1(ff_input)\n",
        "\n",
        "    # Output (ff_output): BATCH_SIZE x sequence length x D_MODEL\n",
        "    # 64x39x512 - Source (English) & Target (Hindi)\n",
        "    ff_output = self.ff_2(ff_1_output)\n",
        "\n",
        "    return ff_output"
      ]
    },
    {
      "cell_type": "code",
      "execution_count": null,
      "metadata": {
        "id": "5xA9ZicdYqqb"
      },
      "outputs": [],
      "source": [
        "class EncoderLayer(Layer):\n",
        "  def __init__(self, d_k):\n",
        "    super().__init__()\n",
        "\n",
        "    # d_k/d_v = 64\n",
        "    self.d_k = d_k\n",
        "\n",
        "    # Linear layer\n",
        "    self.l_layer = LinearLayer(self.d_k)\n",
        "\n",
        "    # Multi-head attention\n",
        "    self.mha = MultiHeadAttention(self.d_k)\n",
        "\n",
        "    # Dropout layers\n",
        "    self.dropout_1 = Dropout(p_dropout)\n",
        "    self.dropout_2 = Dropout(p_dropout)\n",
        "\n",
        "    # Add x & sublayer(x). Apply layer normalization on the sum\n",
        "    self.an_1 = AddNorm()\n",
        "    self.an_2 = AddNorm()\n",
        "\n",
        "    # Feed forward layer\n",
        "    self.ff = FeedForward()\n",
        "\n",
        "  def call(self, encoder_input, padding_mask, training):\n",
        "    # Input (encoder_input): BATCH_SIZE x sequence length x D_MODEL \n",
        "    # 64x39x512 - English\n",
        "    # Output (q, k, v): BATCH_SIZE x h x sequence length x d_k/d_v \n",
        "    # 64x8x39x64 - English\n",
        "    q, k, v = self.l_layer(encoder_input, encoder_input, encoder_input)\n",
        "      \n",
        "    # Output (mha_output): BATCH_SIZE x sequence length x D_MODEL\n",
        "    # 64x39x512 - English\n",
        "    mha_output = self.mha(q, k, v, padding_mask)\n",
        "\n",
        "    # Apply dropout\n",
        "    mha_output = self.dropout_1(mha_output, training)\n",
        "\n",
        "    # Add encoder_input & mha_output. Apply layer normalization on the sum\n",
        "    # Output (ff_input): BATCH_SIZE x sequence length x D_MODEL\n",
        "    # 64x39x512 - English\n",
        "    ff_input = self.an_1(encoder_input, mha_output)\n",
        "\n",
        "    # Output (ff_output): BATCH_SIZE x sequence length x D_MODEL\n",
        "    # 64x39x512 - English\n",
        "    ff_output = self.ff(ff_input)\n",
        "\n",
        "    # Apply dropout\n",
        "    ff_output = self.dropout_2(ff_output, training)\n",
        "\n",
        "    # Add ff_input & ff_output. Apply layer normalization on the sum\n",
        "    # Output (encoder_output): BATCH_SIZE x sequence length x D_MODEL\n",
        "    # 64x39x512 - English\n",
        "    encoder_output = self.an_2(ff_input, ff_output)\n",
        "    return encoder_output"
      ]
    },
    {
      "cell_type": "code",
      "execution_count": null,
      "metadata": {
        "id": "Inu5m7uscrmg"
      },
      "outputs": [],
      "source": [
        "class Encoder(Layer):\n",
        "  def __init__(self, d_k):\n",
        "    super().__init__()\n",
        "\n",
        "    # d_k/d_v = 64\n",
        "    self.d_k = d_k\n",
        "\n",
        "    # Input to first encoder layer\n",
        "    # +3 for [START]: src_vocabulary_size + 1 & [END]: src_vocabulary_size + 2\n",
        "    self.src_vocabulary_size = src_vocabulary_size + 3\n",
        "    self.t_input = TransformerInput(self.src_vocabulary_size)\n",
        "\n",
        "    # There are 6 encoder layers\n",
        "    self.n_encoder_layers = 6\n",
        "    self.encoder_layers = [EncoderLayer(self.d_k) for e in range(self.n_encoder_layers)]\n",
        "\n",
        "  def call(self, src_padded_sequences, src_padding_mask, training):\n",
        "    # Input (src_padded_sequences): BATCH_SIZE x sequence length \n",
        "    # 64x39 - English\n",
        "    # Output (encoder_input): BATCH_SIZE x sequence length x D_MODEL \n",
        "    # 64x39x512 - English\n",
        "    encoder_input = self.t_input(src_padded_sequences, training)\n",
        "\n",
        "    # Encoder layers\n",
        "    for e in range(self.n_encoder_layers):\n",
        "      # Output (encoder_output): BATCH_SIZE x sequence length x D_MODEL\n",
        "      # 64x39x512 - English\n",
        "      encoder_output = self.encoder_layers[e](encoder_input, src_padding_mask, training)\n",
        "\n",
        "      # Output of encoder, n-1 is input to encoder, n\n",
        "      encoder_input = encoder_output\n",
        "    \n",
        "    return encoder_output"
      ]
    },
    {
      "cell_type": "code",
      "execution_count": null,
      "metadata": {
        "id": "l4mzpcTJcha6"
      },
      "outputs": [],
      "source": [
        "class DecoderLayer(Layer):\n",
        "  def __init__(self, d_k):\n",
        "    super().__init__()\n",
        "\n",
        "    # d_k/d_v = 64\n",
        "    self.d_k = d_k\n",
        "\n",
        "    # Linear layer\n",
        "    self.l_layer = LinearLayer(self.d_k)\n",
        "\n",
        "    # Masked multi-head attention & multi-head attention\n",
        "    self.m_mha = MultiHeadAttention(self.d_k)\n",
        "    self.mha = MultiHeadAttention(self.d_k)\n",
        "\n",
        "    # Dropout layers\n",
        "    self.dropout_1 = Dropout(p_dropout)\n",
        "    self.dropout_2 = Dropout(p_dropout)\n",
        "    self.dropout_3 = Dropout(p_dropout)\n",
        "\n",
        "    # Add x & sublayer(x). Apply layer normalization on the sum\n",
        "    self.an_1 = AddNorm()\n",
        "    self.an_2 = AddNorm()\n",
        "    self.an_3 = AddNorm()\n",
        "\n",
        "    # Feed forward layer\n",
        "    self.ff = FeedForward()\n",
        "\n",
        "  def call(self, encoder_output, decoder_input, padding_mask, look_ahead_mask, training):\n",
        "    # Output (m_q, m_k, m_v): BATCH_SIZE x h x sequence length x d_k/d_v \n",
        "    # 64x8x39x64 - Hindi\n",
        "    m_q, m_k, m_v = self.l_layer(decoder_input, decoder_input, decoder_input)\n",
        "      \n",
        "    # Output (m_mha_output): BATCH_SIZE x sequence length x D_MODEL\n",
        "    # 64x39x512 - Hindi\n",
        "    m_mha_output = self.m_mha(m_q, m_k, m_v, look_ahead_mask)\n",
        "\n",
        "    # Apply dropout\n",
        "    m_mha_output = self.dropout_1(m_mha_output, training)\n",
        "\n",
        "    # Add decoder_input & m_mha_output. Apply layer normalization on the sum\n",
        "    # Output (mha_input): BATCH_SIZE x sequence length x D_MODEL\n",
        "    # 64x39x512 - Hindi\n",
        "    mha_input = self.an_1(decoder_input, m_mha_output)\n",
        "      \n",
        "    # Input (q = mha_input, k = v = encoder_output): BATCH_SIZE x sequence length x D_MODEL\n",
        "    # 64x39x512 - Hindi\n",
        "    # Output (q, k, v): BATCH_SIZE x h x sequence length x d_k/d_v \n",
        "    # 64x8x39x64 - Hindi\n",
        "    q, k, v = self.l_layer(mha_input, encoder_output, encoder_output)\n",
        "      \n",
        "    # Output (mha_output): BATCH_SIZE x sequence length x D_MODEL\n",
        "    # 64x39x512 - Hindi\n",
        "    mha_output = self.mha(q, k, v, padding_mask)\n",
        "\n",
        "    # Apply dropout\n",
        "    mha_output = self.dropout_2(mha_output, training)\n",
        "    \n",
        "    # Add mha_input & mha_output. Apply layer normalization on the sum\n",
        "    # Output (ff_input): BATCH_SIZE x sequence length x D_MODEL\n",
        "    # 64x39x512 - Hindi\n",
        "    ff_input = self.an_2(mha_input, mha_output)\n",
        "\n",
        "    # Output (ff_output): BATCH_SIZE x sequence length x D_MODEL\n",
        "    # 64x39x512 - Hindi\n",
        "    ff_output = self.ff(ff_input)\n",
        "\n",
        "    # Apply dropout\n",
        "    ff_output = self.dropout_3(ff_output, training)\n",
        "\n",
        "    # Add ff_input & ff_output. Apply layer normalization on the sum\n",
        "    # Output (decoder_output): BATCH_SIZE x sequence length x D_MODEL\n",
        "    # 64x39x512 - Hindi\n",
        "    decoder_output = self.an_3(ff_input, ff_output)\n",
        "    return decoder_output"
      ]
    },
    {
      "cell_type": "code",
      "execution_count": null,
      "metadata": {
        "id": "PsgNYXzWdm3H"
      },
      "outputs": [],
      "source": [
        "class Decoder(Layer):\n",
        "  def __init__(self, d_k):\n",
        "    super().__init__()\n",
        "\n",
        "    # d_k/d_v = 64\n",
        "    self.d_k = d_k\n",
        "\n",
        "    # Input to first decoder layer\n",
        "    # +3 for [START]: tgt_vocabulary_size + 1 & [END]: tgt_vocabulary_size + 2\n",
        "    self.tgt_vocabulary_size = tgt_vocabulary_size + 3\n",
        "    self.t_input = TransformerInput(self.tgt_vocabulary_size)\n",
        "\n",
        "    # There are 6 decoder layers\n",
        "    self.n_decoder_layers = 6\n",
        "    self.decoder_layers = [DecoderLayer(self.d_k) for d in range(self.n_decoder_layers)]\n",
        "\n",
        "  def call(self, tgt_padded_sequences, encoder_output, src_padding_mask, look_ahead_mask, training):\n",
        "    # Input (tgt_padded_sequences): BATCH_SIZE x sequence length \n",
        "    # 64x39 - Hindi\n",
        "    # Output (decoder_input): BATCH_SIZE x sequence length x D_MODEL \n",
        "    # 64x39x512 - Hindi\n",
        "    decoder_input = self.t_input(tgt_padded_sequences, training)\n",
        "\n",
        "    # Decoder layers\n",
        "    for d in range(self.n_decoder_layers):\n",
        "      # Output (decoder_output): BATCH_SIZE x sequence length x D_MODEL\n",
        "      # 64x39x512 - Hindi\n",
        "      decoder_output = self.decoder_layers[d](encoder_output, decoder_input, src_padding_mask, look_ahead_mask, training)\n",
        "\n",
        "      # Output of decoder, n-1 is input to decoder, n\n",
        "      decoder_input = decoder_output\n",
        "    \n",
        "    return decoder_output"
      ]
    },
    {
      "cell_type": "markdown",
      "metadata": {
        "id": "X8RWt6CVqjJp"
      },
      "source": [
        "**Masking [4]:**\n",
        "\n",
        "\n",
        "---\n",
        "\n",
        "\n",
        "*   Why is padding mask applied only along the key axis (columns)? \n",
        "\n",
        "    It is to remove the impact of padded tokens on other tokens in the sequence\n",
        "\n",
        "\n",
        "*   Why is padding mask not applied along the query axis (rows)? \n",
        "    \n",
        "    It is to retain information about the padded tokens"
      ]
    },
    {
      "cell_type": "code",
      "execution_count": null,
      "metadata": {
        "id": "LIq9OdcAArTN"
      },
      "outputs": [],
      "source": [
        "class Transformer(Layer):\n",
        "  def __init__(self):\n",
        "    super().__init__()\n",
        "\n",
        "    # d_k/d_v = D_MODEL/h = 512/8 = 64\n",
        "    self.d_k = self.d_v = D_MODEL // h\n",
        "\n",
        "    # Encoder\n",
        "    self.encoder = Encoder(self.d_k)\n",
        "\n",
        "    # Decoder\n",
        "    self.decoder = Decoder(self.d_k)\n",
        "\n",
        "    # Linear layer for the final output\n",
        "    # +3 for [START]: tgt_vocabulary_size + 1 & [END]: tgt_vocabulary_size + 2\n",
        "    self.tgt_vocabulary_size = tgt_vocabulary_size + 3\n",
        "    self.o_linear = Dense(self.tgt_vocabulary_size)\n",
        "\n",
        "  def compute_padding_mask(self, padded_sequences):\n",
        "    # Input (padded_sequences), Output (mask): BATCH_SIZE x sequence length \n",
        "    # 64x39 - Source (English) & Target (Hindi)\n",
        "    # Mask value = 1 for padding (padding value=0)\n",
        "    # Mask value = 0 for all the other tokens\n",
        "    mask = tf.where(tf.equal(padded_sequences, 0), \n",
        "                    tf.ones_like(padded_sequences),\n",
        "                    tf.zeros_like(padded_sequences)) \n",
        "    \n",
        "    # Output (mask): BATCH_SIZE x 1 x 1 x sequence length \n",
        "    # 64x1x1x39 - Source (English) & Target (Hindi)\n",
        "    mask = tf.cast(mask[:, tf.newaxis, tf.newaxis, :], dtype='float32')\n",
        "    return mask\n",
        "\n",
        "  def compute_look_ahead_mask(self, tgt_padding_mask):\n",
        "    # Output (look_ahead_mask): 1 x 1 x sequence length x sequence length\n",
        "    # 1x1x39x39 - Target (Hindi)\n",
        "    sequence_length = tgt_padding_mask.shape[-1]\n",
        "    look_ahead_mask = np.triu(np.ones((1, 1, sequence_length, sequence_length)), k=1) \n",
        "    look_ahead_mask = tf.convert_to_tensor(look_ahead_mask, dtype='float32')\n",
        "    look_ahead_mask = tf.maximum(tgt_padding_mask, look_ahead_mask)\n",
        "    return look_ahead_mask\n",
        "\n",
        "  def call(self, src_padded_sequences, tgt_padded_sequences, training=True):\n",
        "    # Input (src_padded_sequences): BATCH_SIZE x sequence length \n",
        "    # 64x39 - English\n",
        "    # Output (src_padding_mask): BATCH_SIZE x 1 x 1 x sequence length \n",
        "    # 64x1x1x39 - English\n",
        "    src_padding_mask = self.compute_padding_mask(src_padded_sequences)\n",
        "    \n",
        "    # Output (encoder_output): BATCH_SIZE x sequence length x D_MODEL\n",
        "    # 64x39x512 - English\n",
        "    encoder_output = self.encoder(src_padded_sequences, src_padding_mask, training)\n",
        "\n",
        "    # Input (tgt_padded_sequences): BATCH_SIZE x sequence length \n",
        "    # 64x39 - Hindi\n",
        "    # Output (tgt_padding_mask): BATCH_SIZE x 1 x 1 x sequence length \n",
        "    # 64x1x1x39 - Hindi\n",
        "    tgt_padding_mask = self.compute_padding_mask(tgt_padded_sequences)\n",
        "\n",
        "    # Output (look_ahead_mask): 1 x 1 x sequence length x sequence length\n",
        "    # 1x1x39x39 - Target (Hindi)\n",
        "    look_ahead_mask = self.compute_look_ahead_mask(tgt_padding_mask)\n",
        "\n",
        "    # Output (decoder_output): BATCH_SIZE x sequence length x D_MODEL\n",
        "    # 64x39x512 - Hindi\n",
        "    decoder_output = self.decoder(tgt_padded_sequences, encoder_output, src_padding_mask, look_ahead_mask, training)\n",
        "\n",
        "    # Output (t_output): BATCH_SIZE x sequence length x target vocabulary\n",
        "    # 64x39x2040 - Hindi (target vocabulary + 3 = 2037 + 3 = 2040)\n",
        "    t_output = self.o_linear(decoder_output)\n",
        "    return t_output"
      ]
    },
    {
      "cell_type": "code",
      "execution_count": null,
      "metadata": {
        "id": "fQBU_WPnn8Vm"
      },
      "outputs": [],
      "source": [
        "class LRSchedule(LearningRateSchedule):\n",
        "  def __init__(self):\n",
        "    super().__init__()\n",
        "\n",
        "    # Warmup steps = 4000\n",
        "    self.warmup_steps = 4000\n",
        "\n",
        "  def __call__(self, step_num):\n",
        "    # Compute learning rate as mentioned in the paper [1]\n",
        "    step_num = tf.cast(step_num, dtype='float64')\n",
        "    l_rate = (D_MODEL ** -.5) * tf.minimum((step_num ** -.5),\n",
        "                                           step_num * (self.warmup_steps ** -1.5))\n",
        "    return l_rate"
      ]
    },
    {
      "cell_type": "code",
      "execution_count": null,
      "metadata": {
        "id": "rXXvkbbzi2bD"
      },
      "outputs": [],
      "source": [
        "# Transformer\n",
        "transformer = Transformer()\n",
        "\n",
        "# Optimizer with custom learning rate\n",
        "lr_schedule = LRSchedule()\n",
        "optimizer = Adam(learning_rate=lr_schedule, beta_1=.9, beta_2=.98, epsilon=1e-9)\n",
        "\n",
        "# Loss\n",
        "# reduction is set to 'none' to ignore padding during loss computation\n",
        "# If padding is not ignored during loss computation, training is impacted\n",
        "scce = SparseCategoricalCrossentropy(from_logits=True, reduction='none')\n",
        "\n",
        "# Metric\n",
        "train_loss = Mean()"
      ]
    },
    {
      "cell_type": "code",
      "execution_count": null,
      "metadata": {
        "id": "z0tTB2b8ATrM"
      },
      "outputs": [],
      "source": [
        "# Split source, target padded sequences to train (80%) and test (20%)\n",
        "train_src_padded_sequences, train_tgt_padded_sequences = src_padded_sequences[:8000, :39], tgt_padded_sequences[:8000, :40]\n",
        "test_src_padded_sequences, test_tgt_padded_sequences = src_padded_sequences[8000:, :39], tgt_padded_sequences[8000:, :40]\n",
        "\n",
        "# Shuffle and create batches\n",
        "train_dataset = tf.data.Dataset.from_tensor_slices((train_src_padded_sequences, train_tgt_padded_sequences))\n",
        "train_dataset = train_dataset.shuffle(BUFFER_SIZE).batch(BATCH_SIZE)\n",
        "\n",
        "test_dataset = tf.data.Dataset.from_tensor_slices((test_src_padded_sequences, test_tgt_padded_sequences))\n",
        "test_dataset = test_dataset.shuffle(BUFFER_SIZE).batch(BATCH_SIZE)"
      ]
    },
    {
      "cell_type": "code",
      "execution_count": null,
      "metadata": {
        "id": "DTcBCPDdasB9"
      },
      "outputs": [],
      "source": [
        "# Training\n",
        "EPOCHS = 250\n",
        "\n",
        "# Checkpoint\n",
        "ckpt = tf.train.Checkpoint(optimizer=optimizer, transformer=transformer)\n",
        "ckpt_mngr = tf.train.CheckpointManager(ckpt, './t_checkpoints', max_to_keep=3)\n",
        "\n",
        "def compute_loss(actual_y, predicted_y):\n",
        "  # Padding mask: 0 for padding, 1 for rest\n",
        "  padding_mask = tf.where(tf.equal(actual_y, 0),\n",
        "                          tf.zeros_like(actual_y),\n",
        "                          tf.ones_like(actual_y))\n",
        "  padding_mask = tf.cast(padding_mask, dtype='float32')\n",
        "\n",
        "  # Loss (raw tensor)\n",
        "  loss = scce(actual_y, predicted_y)\n",
        "  loss = tf.cast(loss, dtype='float32')\n",
        "\n",
        "  # Multiply (element-wise) loss with padding mask \n",
        "  # The loss for padding becomes 0\n",
        "  loss *= padding_mask\n",
        "\n",
        "  # Compute mean loss\n",
        "  loss = tf.reduce_sum(loss) / tf.reduce_sum(padding_mask)\n",
        "  return loss\n",
        "\n",
        "def train_transformer(src_padded_sequences, tgt_padded_sequences):\n",
        "  # Shift tgt_padded_sequences to right by 1 position\n",
        "  actual_t_output = tgt_padded_sequences[:, 1:]\n",
        "\n",
        "  # Now, input to decoder is tgt_padded_sequences[, :-1]\n",
        "  decoder_input = tgt_padded_sequences[:, :-1]\n",
        "  \n",
        "  with tf.GradientTape() as gt:\n",
        "    # Forward pass\n",
        "    predicted_t_output = transformer(src_padded_sequences, decoder_input)\n",
        "\n",
        "    # Compute loss, L\n",
        "    loss = compute_loss(actual_t_output, predicted_t_output)\n",
        "  \n",
        "  # grad(L) w.r.t all transformer weights\n",
        "  t_weights = transformer.trainable_variables\n",
        "  t_gradients = gt.gradient(loss, t_weights)  \n",
        "\n",
        "  # Update the weights\n",
        "  optimizer.apply_gradients(zip(t_gradients, t_weights))\n",
        "  train_loss(loss)\n",
        "\n",
        "# Restore latest checkpoint, if any\n",
        "ckpt.restore(ckpt_mngr.latest_checkpoint)\n",
        "if not ckpt_mngr.latest_checkpoint:\n",
        "  print(\"Nothing to restore, initializing from the beginning...\")\n",
        "else:\n",
        "  print(\"Restoring latest checkpoint: {}\".format(ckpt_mngr.latest_checkpoint))\n",
        "\n",
        "for epoch in range(EPOCHS):\n",
        "  start = time.time()\n",
        "\n",
        "  for (batch, (src_padded_sequences, tgt_padded_sequences)) in enumerate(train_dataset):\n",
        "    train_transformer(src_padded_sequences, tgt_padded_sequences)\n",
        "  \n",
        "  end = time.time()\n",
        "\n",
        "  # Save checkpoint\n",
        "  ckpt_path = ckpt_mngr.save()\n",
        "  print(\"Saving checkpoint {} for epoch {}\".format(ckpt_path, epoch+1))\n",
        "\n",
        "  print(\"Epoch {}/{} ==========> - {:.5f}s - loss: {:.5f}\".format(epoch+1, EPOCHS, end-start, train_loss.result()))\n",
        "  train_loss.reset_states()"
      ]
    },
    {
      "cell_type": "code",
      "execution_count": null,
      "metadata": {
        "colab": {
          "base_uri": "https://localhost:8080/"
        },
        "id": "MUCywHQHZdRt",
        "outputId": "85968e2b-5d7f-4665-e35f-297a315f2a9c"
      },
      "outputs": [
        {
          "name": "stdout",
          "output_type": "stream",
          "text": [
            "\n",
            "\n",
            "Source:\n",
            "-------\n",
            "['leak resolution']\n",
            "\n",
            "Target (Expected):\n",
            "------------------\n",
            "['लीक विभेदनः']\n",
            "\n",
            "Target (Predicted):\n",
            "-------------------\n",
            "['लीक विभेदनः']\n",
            "\n",
            "\n",
            "Source:\n",
            "-------\n",
            "['devhelp plugin for anjuta']\n",
            "\n",
            "Target (Expected):\n",
            "------------------\n",
            "['अंजुटा के लिए डेव वहेल्प प्लगिन']\n",
            "\n",
            "Target (Predicted):\n",
            "-------------------\n",
            "['अंजुटा के लिए डेव वहेल्प प्लगिन']\n",
            "\n",
            "\n",
            "Source:\n",
            "-------\n",
            "['sample file operations']\n",
            "\n",
            "Target (Expected):\n",
            "------------------\n",
            "['नमूना फाइल आपरेशन']\n",
            "\n",
            "Target (Predicted):\n",
            "-------------------\n",
            "['डिस्क के उन्नत विकल्पों को छुपाओ']\n",
            "\n",
            "\n",
            "Source:\n",
            "-------\n",
            "['select program to run']\n",
            "\n",
            "Target (Expected):\n",
            "------------------\n",
            "['चलाने के लिए प्रोग्राम चुनेंः']\n",
            "\n",
            "Target (Predicted):\n",
            "-------------------\n",
            "['चलाने के लिए प्रोग्राम चुनेंः']\n",
            "\n",
            "\n",
            "Source:\n",
            "-------\n",
            "['toggle fullscreen mode']\n",
            "\n",
            "Target (Expected):\n",
            "------------------\n",
            "['पूरा स्क्रीन मोड टॉगल करें']\n",
            "\n",
            "Target (Predicted):\n",
            "-------------------\n",
            "['पूरा स्क्रीन मोड टॉगल करें']\n",
            "\n",
            "\n",
            "Source:\n",
            "-------\n",
            "['disable syntax highlighting']\n",
            "\n",
            "Target (Expected):\n",
            "------------------\n",
            "['वाक्य रचना हाइलाइटिंग निष्क्रिय करें']\n",
            "\n",
            "Target (Predicted):\n",
            "-------------------\n",
            "['वाक्य रचना हाइलाइटिंग निष्क्रिय करें']\n",
            "\n",
            "Source:\n",
            "-------\n",
            "['save file as']\n",
            "\n",
            "Target (Expected):\n",
            "------------------\n",
            "['ऐसे फाइल सहेजें']\n",
            "\n",
            "Target (Predicted):\n",
            "-------------------\n",
            "['ऐसे सहेजें को उभारें है']\n"
          ]
        }
      ],
      "source": [
        "# Evaluation\n",
        "for idx in np.random.randint(2000, size=7):\n",
        "    # Source\n",
        "    src = test_src_padded_sequences[idx]\n",
        "    src = tf.expand_dims(src, 0)\n",
        "    print(\"\\n\\nSource:\")\n",
        "    print(\"-\"*7)\n",
        "    print(src_tknzr.sequences_to_texts(src[:, 1:-1].numpy()))\n",
        "\n",
        "    # Target\n",
        "    tgt = test_tgt_padded_sequences[idx]\n",
        "    tgt = tf.expand_dims(tgt, 0)\n",
        "    print(\"\\nTarget (Expected):\")\n",
        "    print(\"-\"*18)\n",
        "    print(tgt_tknzr.sequences_to_texts(tgt[:, 1:-1].numpy()))\n",
        "\n",
        "    # Initial decoder input is [START]\n",
        "    decoder_input = test_tgt_padded_sequences[idx][:1]\n",
        "    decoder_input = tf.expand_dims(decoder_input, 0)\n",
        "\n",
        "    # tgt_max_sequence_length = 40\n",
        "    for i in range(tgt_max_sequence_length):\n",
        "        # Get the next prediction (word) in target (Hindi) language \n",
        "        predicted_t_output = transformer(src, decoder_input, training=False)\n",
        "        predicted_t_output = predicted_t_output[: ,-1:, :]\n",
        "        predicted_token = tf.cast(tf.argmax(predicted_t_output, axis=-1), tf.int32)\n",
        "        # Concatenate output from time steps, 1 to (t-1) and output from time step, t\n",
        "        decoder_input = tf.concat([decoder_input, predicted_token], axis=-1)\n",
        "        # Stop if the prediction is [END]\n",
        "        if predicted_token == (tgt_vocabulary_size + 2):\n",
        "            break\n",
        "\n",
        "    print(\"\\nTarget (Predicted):\")\n",
        "    print(\"-\"*19)\n",
        "    print(tgt_tknzr.sequences_to_texts(decoder_input[:, 1:-1].numpy()))"
      ]
    },
    {
      "cell_type": "markdown",
      "metadata": {
        "id": "24NuZWF6mT-y"
      },
      "source": [
        "**References:**\n",
        "\n",
        "\n",
        "1.   Vaswani, Ashish, et al. \"Attention is all you need.\" Advances in neural information processing systems (2017).\n",
        "2.   Yannic Kilcher (Youtube) – Attention is All You Need\n",
        "3.   Hedu AI (Youtube) – Visual Guide to Transformer Neural Networks - (Episode 1) Position Embeddings\n",
        "4.   https://medium.com/mlearning-ai/how-do-self-attention-masks-work-72ed9382510f\n",
        "5.   https://www.tensorflow.org/text/tutorials/transformer"
      ]
    }
  ],
  "metadata": {
    "colab": {
      "provenance": []
    },
    "kernelspec": {
      "display_name": "Python 3",
      "language": "python",
      "name": "python3"
    },
    "language_info": {
      "codemirror_mode": {
        "name": "ipython",
        "version": 3
      },
      "file_extension": ".py",
      "mimetype": "text/x-python",
      "name": "python",
      "nbconvert_exporter": "python",
      "pygments_lexer": "ipython3",
      "version": "3.8.8"
    }
  },
  "nbformat": 4,
  "nbformat_minor": 0
}